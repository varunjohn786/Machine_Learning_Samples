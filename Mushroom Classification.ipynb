{
 "cells": [
  {
   "cell_type": "markdown",
   "metadata": {},
   "source": [
    "## **Reading a File**"
   ]
  },
  {
   "cell_type": "code",
   "execution_count": 46,
   "metadata": {},
   "outputs": [],
   "source": [
    "options(warn=-1)\n",
    "mushroom <- read.csv(\"C:/Users/Varun/Downloads/mushroom-classification/mushrooms.csv\")"
   ]
  },
  {
   "cell_type": "markdown",
   "metadata": {},
   "source": [
    "## **Summary of the dataset**"
   ]
  },
  {
   "cell_type": "code",
   "execution_count": 25,
   "metadata": {
    "scrolled": true
   },
   "outputs": [
    {
     "data": {
      "text/plain": [
       " class    cap.shape cap.surface   cap.color    bruises       odor     \n",
       " e:4208   b: 452    f:2320      n      :2284   f:4748   n      :3528  \n",
       " p:3916   c:   4    g:   4      g      :1840   t:3376   f      :2160  \n",
       "          f:3152    s:2556      e      :1500            s      : 576  \n",
       "          k: 828    y:3244      y      :1072            y      : 576  \n",
       "          s:  32                w      :1040            a      : 400  \n",
       "          x:3656                b      : 168            l      : 400  \n",
       "                                (Other): 220            (Other): 484  \n",
       " gill.attachment gill.spacing gill.size   gill.color   stalk.shape stalk.root\n",
       " a: 210          c:6812       b:5612    b      :1728   e:3516      ?:2480    \n",
       " f:7914          w:1312       n:2512    p      :1492   t:4608      b:3776    \n",
       "                                        w      :1202               c: 556    \n",
       "                                        n      :1048               e:1120    \n",
       "                                        g      : 752               r: 192    \n",
       "                                        h      : 732                         \n",
       "                                        (Other):1170                         \n",
       " stalk.surface.above.ring stalk.surface.below.ring stalk.color.above.ring\n",
       " f: 552                   f: 600                   w      :4464          \n",
       " k:2372                   k:2304                   p      :1872          \n",
       " s:5176                   s:4936                   g      : 576          \n",
       " y:  24                   y: 284                   n      : 448          \n",
       "                                                   b      : 432          \n",
       "                                                   o      : 192          \n",
       "                                                   (Other): 140          \n",
       " stalk.color.below.ring veil.type veil.color ring.number ring.type\n",
       " w      :4384           p:8124    n:  96     n:  36      e:2776   \n",
       " p      :1872                     o:  96     o:7488      f:  48   \n",
       " g      : 576                     w:7924     t: 600      l:1296   \n",
       " n      : 512                     y:   8                 n:  36   \n",
       " b      : 432                                            p:3968   \n",
       " o      : 192                                                     \n",
       " (Other): 156                                                     \n",
       " spore.print.color population habitat \n",
       " w      :2388      a: 384     d:3148  \n",
       " n      :1968      c: 340     g:2148  \n",
       " k      :1872      n: 400     l: 832  \n",
       " h      :1632      s:1248     m: 292  \n",
       " r      :  72      v:4040     p:1144  \n",
       " b      :  48      y:1712     u: 368  \n",
       " (Other): 144                 w: 192  "
      ]
     },
     "metadata": {},
     "output_type": "display_data"
    }
   ],
   "source": [
    "summary(mushroom)"
   ]
  },
  {
   "cell_type": "markdown",
   "metadata": {},
   "source": [
    "## **Check for empty records**"
   ]
  },
  {
   "cell_type": "code",
   "execution_count": 27,
   "metadata": {},
   "outputs": [
    {
     "data": {
      "text/html": [
       "0"
      ],
      "text/latex": [
       "0"
      ],
      "text/markdown": [
       "0"
      ],
      "text/plain": [
       "[1] 0"
      ]
     },
     "metadata": {},
     "output_type": "display_data"
    }
   ],
   "source": [
    "mushroom <- mushroom[-c(17)]\n",
    "sum(is.na(mushroom))"
   ]
  },
  {
   "cell_type": "markdown",
   "metadata": {},
   "source": [
    "## **Split dataset into training and test set**"
   ]
  },
  {
   "cell_type": "code",
   "execution_count": 28,
   "metadata": {},
   "outputs": [],
   "source": [
    "set.seed(42)\n",
    "i <- sample(nrow(mushroom), size= nrow(mushroom)*0.75,replace = FALSE)\n",
    "train <- mushroom[i,]\n",
    "test <- mushroom[-i,]"
   ]
  },
  {
   "cell_type": "markdown",
   "metadata": {},
   "source": [
    "## **creating decision tree model**"
   ]
  },
  {
   "cell_type": "code",
   "execution_count": 29,
   "metadata": {},
   "outputs": [
    {
     "name": "stdout",
     "output_type": "stream",
     "text": [
      "Call:\n",
      "rpart(formula = class ~ ., data = train)\n",
      "  n= 6093 \n",
      "\n",
      "          CP nsplit  rel error     xerror        xstd\n",
      "1 0.96985095      0 1.00000000 1.00000000 0.013214788\n",
      "2 0.01626016      1 0.03014905 0.03014905 0.003172367\n",
      "3 0.01000000      2 0.01388889 0.01388889 0.002161770\n",
      "\n",
      "Variable importance\n",
      "                    odor        spore.print.color               gill.color \n",
      "                      26                       19                       16 \n",
      "stalk.surface.above.ring stalk.surface.below.ring                ring.type \n",
      "                      13                       13                       13 \n",
      "\n",
      "Node number 1: 6093 observations,    complexity param=0.9698509\n",
      "  predicted class=e  expected loss=0.4844904  P(node) =1\n",
      "    class counts:  3141  2952\n",
      "   probabilities: 0.516 0.484 \n",
      "  left son=2 (3230 obs) right son=3 (2863 obs)\n",
      "  Primary splits:\n",
      "      odor                     splits as  LRRLRLRRR,    improve=2870.4730, (0 missing)\n",
      "      spore.print.color        splits as  LRLLLRLRL,    improve=1607.0080, (0 missing)\n",
      "      gill.color               splits as  RLRRLLLLRLLL, improve=1141.7850, (0 missing)\n",
      "      stalk.surface.above.ring splits as  LRLL,         improve=1042.2530, (0 missing)\n",
      "      stalk.surface.below.ring splits as  LRLL,         improve= 984.6038, (0 missing)\n",
      "  Surrogate splits:\n",
      "      spore.print.color        splits as  LRLLLLLRL,    agree=0.856, adj=0.694, (0 split)\n",
      "      gill.color               splits as  RLRRLLLLLLLL, agree=0.811, adj=0.597, (0 split)\n",
      "      stalk.surface.above.ring splits as  LRLL,         agree=0.778, adj=0.527, (0 split)\n",
      "      stalk.surface.below.ring splits as  LRLL,         agree=0.777, adj=0.526, (0 split)\n",
      "      ring.type                splits as  RLRRL,        agree=0.773, adj=0.517, (0 split)\n",
      "\n",
      "Node number 2: 3230 observations,    complexity param=0.01626016\n",
      "  predicted class=e  expected loss=0.02755418  P(node) =0.5301165\n",
      "    class counts:  3141    89\n",
      "   probabilities: 0.972 0.028 \n",
      "  left son=4 (3182 obs) right son=5 (48 obs)\n",
      "  Primary splits:\n",
      "      spore.print.color        splits as  LLLLLRLLL,    improve=92.15192, (0 missing)\n",
      "      gill.color               splits as  -LLLLLLLRLLL, improve=36.14736, (0 missing)\n",
      "      stalk.color.below.ring   splits as  --LLLLLLR,    improve=34.23421, (0 missing)\n",
      "      cap.color                splits as  RLLLLRLLLL,   improve=13.54370, (0 missing)\n",
      "      stalk.surface.above.ring splits as  LRLR,         improve=11.65172, (0 missing)\n",
      "  Surrogate splits:\n",
      "      gill.color splits as  -LLLLLLLRLLL, agree=0.991, adj=0.396, (0 split)\n",
      "\n",
      "Node number 3: 2863 observations\n",
      "  predicted class=p  expected loss=0  P(node) =0.4698835\n",
      "    class counts:     0  2863\n",
      "   probabilities: 0.000 1.000 \n",
      "\n",
      "Node number 4: 3182 observations\n",
      "  predicted class=e  expected loss=0.01288498  P(node) =0.5222386\n",
      "    class counts:  3141    41\n",
      "   probabilities: 0.987 0.013 \n",
      "\n",
      "Node number 5: 48 observations\n",
      "  predicted class=p  expected loss=0  P(node) =0.007877893\n",
      "    class counts:     0    48\n",
      "   probabilities: 0.000 1.000 \n",
      "\n"
     ]
    }
   ],
   "source": [
    "library(rpart)\n",
    "model1 <- rpart(class ~. , data=train)\n",
    "summary(model1)"
   ]
  },
  {
   "cell_type": "markdown",
   "metadata": {},
   "source": [
    "## **creating confusion matrix**"
   ]
  },
  {
   "cell_type": "code",
   "execution_count": 30,
   "metadata": {
    "scrolled": true
   },
   "outputs": [
    {
     "data": {
      "text/plain": [
       "Confusion Matrix and Statistics\n",
       "\n",
       "          Reference\n",
       "Prediction    e    p\n",
       "         e 1067    7\n",
       "         p    0  957\n",
       "                                          \n",
       "               Accuracy : 0.9966          \n",
       "                 95% CI : (0.9929, 0.9986)\n",
       "    No Information Rate : 0.5254          \n",
       "    P-Value [Acc > NIR] : < 2e-16         \n",
       "                                          \n",
       "                  Kappa : 0.9931          \n",
       "                                          \n",
       " Mcnemar's Test P-Value : 0.02334         \n",
       "                                          \n",
       "            Sensitivity : 1.0000          \n",
       "            Specificity : 0.9927          \n",
       "         Pos Pred Value : 0.9935          \n",
       "         Neg Pred Value : 1.0000          \n",
       "             Prevalence : 0.5254          \n",
       "         Detection Rate : 0.5254          \n",
       "   Detection Prevalence : 0.5288          \n",
       "      Balanced Accuracy : 0.9964          \n",
       "                                          \n",
       "       'Positive' Class : e               \n",
       "                                          "
      ]
     },
     "metadata": {},
     "output_type": "display_data"
    }
   ],
   "source": [
    "library(caret)\n",
    "p <- predict(model1,newdata = test, type = \"class\")\n",
    "v <- test['class']\n",
    "v <- factor(v[,1])\n",
    "c <- confusionMatrix(p,v)\n",
    "c"
   ]
  },
  {
   "cell_type": "markdown",
   "metadata": {},
   "source": [
    "## **Creating plot of the confusion matrix**"
   ]
  },
  {
   "cell_type": "code",
   "execution_count": 31,
   "metadata": {},
   "outputs": [
    {
     "data": {
      "image/png": "[encoded data removed]",
      "text/plain": [
       "plot without title"
      ]
     },
     "metadata": {
      "image/png": {
       "height": 420,
       "width": 420
      },
      "text/plain": {
       "height": 420,
       "width": 420
      }
     },
     "output_type": "display_data"
    }
   ],
   "source": [
    "c <- data.frame(c$table)\n",
    "\n",
    "library(ggplot2)\n",
    "ggplot(data =  c, mapping = aes(x = Prediction, y = Reference)) +\n",
    "  geom_tile(aes(fill = c$Freq), colour = \"white\") +\n",
    "  geom_text(aes(label = sprintf(\"%1.0f\", c$Freq)), vjust = 1,col=\"red\") +\n",
    "  theme(legend.position = \"none\")"
   ]
  },
  {
   "cell_type": "markdown",
   "metadata": {},
   "source": [
    "## Classification using Random Forest"
   ]
  },
  {
   "cell_type": "code",
   "execution_count": 32,
   "metadata": {},
   "outputs": [],
   "source": [
    "library(partykit)\n",
    "model2 <- cforest(class ~. , data=train)"
   ]
  },
  {
   "cell_type": "code",
   "execution_count": 33,
   "metadata": {
    "scrolled": true
   },
   "outputs": [
    {
     "data": {
      "image/png": "[encoded data removed]",
      "text/plain": [
       "plot without title"
      ]
     },
     "metadata": {
      "image/png": {
       "height": 420,
       "width": 420
      },
      "text/plain": {
       "height": 420,
       "width": 420
      }
     },
     "output_type": "display_data"
    }
   ],
   "source": [
    "p <- predict(model2,newdata = test)\n",
    "c <- confusionMatrix(p,v)\n",
    "c <- data.frame(c$table)\n",
    "\n",
    "ggplot(data =  c, mapping = aes(x = Prediction, y = Reference)) +\n",
    "  geom_tile(aes(fill = c$Freq), colour = \"white\") +\n",
    "  geom_text(aes(label = sprintf(\"%1.0f\", c$Freq)), vjust = 1,col=\"red\") +\n",
    "  theme(legend.position = \"none\")"
   ]
  },
  {
   "cell_type": "markdown",
   "metadata": {},
   "source": [
    "## Converting column factor levels into numbers"
   ]
  },
  {
   "cell_type": "code",
   "execution_count": 34,
   "metadata": {},
   "outputs": [],
   "source": [
    "train$cap.shape<-as.numeric(train$cap.shape)\n",
    "train$cap.surface<-as.numeric(train$cap.surface)\n",
    "train$cap.color<-as.numeric(train$cap.color)\n",
    "train$bruises<-as.numeric(train$bruises)\n",
    "train$odor<-as.numeric(train$odor)\n",
    "train$gill.attachment<-as.numeric(train$gill.attachment)\n",
    "train$gill.spacing<-as.numeric(train$gill.spacing)\n",
    "train$gill.size<-as.numeric(train$gill.size)\n",
    "train$gill.color<-as.numeric(train$gill.color)\n",
    "train$stalk.shape<-as.numeric(train$stalk.shape)\n",
    "train$stalk.root<-as.numeric(train$stalk.root)\n",
    "train$stalk.surface.above.ring<-as.numeric(train$stalk.surface.above.ring)\n",
    "train$stalk.surface.below.ring<-as.numeric(train$stalk.surface.below.ring)\n",
    "train$stalk.color.above.ring<-as.numeric(train$stalk.color.above.ring)\n",
    "train$stalk.color.below.ring<-as.numeric(train$stalk.color.below.ring)\n",
    "train$veil.color<-as.numeric(train$veil.color)\n",
    "train$ring.number<-as.numeric(train$ring.number)\n",
    "train$ring.type<-as.numeric(train$ring.type)\n",
    "train$spore.print.color<-as.numeric(train$spore.print.color)\n",
    "train$population<-as.numeric(train$population)\n",
    "train$habitat<-as.numeric(train$habitat)\n",
    "\n",
    "\n",
    "test$cap.shape<-as.numeric(test$cap.shape)\n",
    "test$cap.surface<-as.numeric(test$cap.surface)\n",
    "test$cap.color<-as.numeric(test$cap.color)\n",
    "test$bruises<-as.numeric(test$bruises)\n",
    "test$odor<-as.numeric(test$odor)\n",
    "test$gill.attachment<-as.numeric(test$gill.attachment)\n",
    "test$gill.spacing<-as.numeric(test$gill.spacing)\n",
    "test$gill.size<-as.numeric(test$gill.size)\n",
    "test$gill.color<-as.numeric(test$gill.color)\n",
    "test$stalk.shape<-as.numeric(test$stalk.shape)\n",
    "test$stalk.root<-as.numeric(test$stalk.root)\n",
    "test$stalk.surface.above.ring<-as.numeric(test$stalk.surface.above.ring)\n",
    "test$stalk.surface.below.ring<-as.numeric(test$stalk.surface.below.ring)\n",
    "test$stalk.color.above.ring<-as.numeric(test$stalk.color.above.ring)\n",
    "test$stalk.color.below.ring<-as.numeric(test$stalk.color.below.ring)\n",
    "test$veil.color<-as.numeric(test$veil.color)\n",
    "test$ring.number<-as.numeric(test$ring.number)\n",
    "test$ring.type<-as.numeric(test$ring.type)\n",
    "test$spore.print.color<-as.numeric(test$spore.print.color)\n",
    "test$population<-as.numeric(test$population)\n",
    "test$habitat<-as.numeric(test$habitat)"
   ]
  },
  {
   "cell_type": "markdown",
   "metadata": {},
   "source": [
    "## **Classification using Linear Discriminant Analysis**"
   ]
  },
  {
   "cell_type": "code",
   "execution_count": 43,
   "metadata": {
    "scrolled": true
   },
   "outputs": [
    {
     "data": {
      "text/plain": [
       "Call:\n",
       "lda(class ~ ., data = train)\n",
       "\n",
       "Prior probabilities of groups:\n",
       "        e         p \n",
       "0.5155096 0.4844904 \n",
       "\n",
       "Group means:\n",
       "  cap.shape cap.surface cap.color  bruises     odor gill.attachment\n",
       "e  4.263929    2.636422  5.618593 1.650430 5.332060        1.952245\n",
       "p  4.444783    3.049119  5.433266 1.164295 4.953591        1.996612\n",
       "  gill.spacing gill.size gill.color stalk.shape stalk.root\n",
       "e     1.287170  1.068450   7.600446    1.609997   2.495065\n",
       "p     1.028794  1.571477   3.882453    1.513550   1.701220\n",
       "  stalk.surface.above.ring stalk.surface.below.ring stalk.color.above.ring\n",
       "e                 2.771729                 2.792423               7.092327\n",
       "p                 2.361111                 2.397696               6.524051\n",
       "  stalk.color.below.ring veil.color ring.number ring.type spore.print.color\n",
       "e               7.078637   2.929004    2.130213  3.980898          4.217447\n",
       "p               6.524729   3.001694    2.008469  2.539634          5.000000\n",
       "  population  habitat\n",
       "e   4.270296 2.181471\n",
       "p   5.028455 2.870596\n",
       "\n",
       "Coefficients of linear discriminants:\n",
       "                                  LD1\n",
       "cap.shape                -0.007108990\n",
       "cap.surface               0.100204783\n",
       "cap.color                -0.003183735\n",
       "bruises                  -1.634072283\n",
       "odor                     -0.103307733\n",
       "gill.attachment           0.263591636\n",
       "gill.spacing             -2.190179445\n",
       "gill.size                 2.514410107\n",
       "gill.color               -0.042443675\n",
       "stalk.shape              -0.186947567\n",
       "stalk.root               -0.313915036\n",
       "stalk.surface.above.ring -0.742689254\n",
       "stalk.surface.below.ring -0.265096414\n",
       "stalk.color.above.ring   -0.053580356\n",
       "stalk.color.below.ring   -0.034649046\n",
       "veil.color                1.533611070\n",
       "ring.number               0.110812082\n",
       "ring.type                 0.109159200\n",
       "spore.print.color        -0.214571605\n",
       "population               -0.064885018\n",
       "habitat                   0.082669806"
      ]
     },
     "metadata": {},
     "output_type": "display_data"
    }
   ],
   "source": [
    "library(MASS)\n",
    "model3 <- lda(class ~ ., data=train)\n",
    "model3"
   ]
  },
  {
   "cell_type": "code",
   "execution_count": 40,
   "metadata": {},
   "outputs": [
    {
     "data": {
      "image/png": "[encoded data removed]",
      "text/plain": [
       "plot without title"
      ]
     },
     "metadata": {
      "image/png": {
       "height": 420,
       "width": 420
      },
      "text/plain": {
       "height": 420,
       "width": 420
      }
     },
     "output_type": "display_data"
    }
   ],
   "source": [
    "p <- predict(model3,newdata = test)\n",
    "c <- confusionMatrix(p$class,v)\n",
    "c <- data.frame(c$table)\n",
    "\n",
    "ggplot(data =  c, mapping = aes(x = Prediction, y = Reference)) +\n",
    "  geom_tile(aes(fill = c$Freq), colour = \"white\") +\n",
    "  geom_text(aes(label = sprintf(\"%1.0f\", c$Freq)), vjust = 1,col=\"red\") +\n",
    "  theme(legend.position = \"none\")"
   ]
  },
  {
   "cell_type": "markdown",
   "metadata": {},
   "source": [
    "## **Classification using K Nearest Neighbor**"
   ]
  },
  {
   "cell_type": "code",
   "execution_count": 47,
   "metadata": {},
   "outputs": [
    {
     "data": {
      "image/png": "[encoded data removed]",
      "text/plain": [
       "plot without title"
      ]
     },
     "metadata": {
      "image/png": {
       "height": 420,
       "width": 420
      },
      "text/plain": {
       "height": 420,
       "width": 420
      }
     },
     "output_type": "display_data"
    }
   ],
   "source": [
    "library(DMwR)\n",
    "p <- kNN(class ~ ., train,test,k=2)\n",
    "c <- confusionMatrix(p,v)\n",
    "c <- data.frame(c$table)\n",
    "\n",
    "ggplot(data =  c, mapping = aes(x = Prediction, y = Reference)) +\n",
    "  geom_tile(aes(fill = c$Freq), colour = \"white\") +\n",
    "  geom_text(aes(label = sprintf(\"%1.0f\", c$Freq)), vjust = 1,col=\"red\") +\n",
    "  theme(legend.position = \"none\")"
   ]
  }
 ],
 "metadata": {
  "kernelspec": {
   "display_name": "R",
   "language": "R",
   "name": "ir"
  },
  "language_info": {
   "codemirror_mode": "r",
   "file_extension": ".r",
   "mimetype": "text/x-r-source",
   "name": "R",
   "pygments_lexer": "r",
   "version": "3.6.1"
  }
 },
 "nbformat": 4,
 "nbformat_minor": 4
}
