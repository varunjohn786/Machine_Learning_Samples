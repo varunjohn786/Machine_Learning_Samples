{
 "cells": [
  {
   "cell_type": "markdown",
   "metadata": {},
   "source": [
    "## **Reading a File**"
   ]
  },
  {
   "cell_type": "code",
   "execution_count": 22,
   "metadata": {},
   "outputs": [],
   "source": [
    "mushroom <- read.csv(\"C:/Users/Varun/Downloads/mushroom-classification/mushrooms.csv\")"
   ]
  },
  {
   "cell_type": "markdown",
   "metadata": {},
   "source": [
    "## **Summary of the dataset**"
   ]
  },
  {
   "cell_type": "code",
   "execution_count": 23,
   "metadata": {
    "scrolled": true
   },
   "outputs": [
    {
     "data": {
      "text/plain": [
       " class    cap.shape cap.surface   cap.color    bruises       odor     \n",
       " e:4208   b: 452    f:2320      n      :2284   f:4748   n      :3528  \n",
       " p:3916   c:   4    g:   4      g      :1840   t:3376   f      :2160  \n",
       "          f:3152    s:2556      e      :1500            s      : 576  \n",
       "          k: 828    y:3244      y      :1072            y      : 576  \n",
       "          s:  32                w      :1040            a      : 400  \n",
       "          x:3656                b      : 168            l      : 400  \n",
       "                                (Other): 220            (Other): 484  \n",
       " gill.attachment gill.spacing gill.size   gill.color   stalk.shape stalk.root\n",
       " a: 210          c:6812       b:5612    b      :1728   e:3516      ?:2480    \n",
       " f:7914          w:1312       n:2512    p      :1492   t:4608      b:3776    \n",
       "                                        w      :1202               c: 556    \n",
       "                                        n      :1048               e:1120    \n",
       "                                        g      : 752               r: 192    \n",
       "                                        h      : 732                         \n",
       "                                        (Other):1170                         \n",
       " stalk.surface.above.ring stalk.surface.below.ring stalk.color.above.ring\n",
       " f: 552                   f: 600                   w      :4464          \n",
       " k:2372                   k:2304                   p      :1872          \n",
       " s:5176                   s:4936                   g      : 576          \n",
       " y:  24                   y: 284                   n      : 448          \n",
       "                                                   b      : 432          \n",
       "                                                   o      : 192          \n",
       "                                                   (Other): 140          \n",
       " stalk.color.below.ring veil.type veil.color ring.number ring.type\n",
       " w      :4384           p:8124    n:  96     n:  36      e:2776   \n",
       " p      :1872                     o:  96     o:7488      f:  48   \n",
       " g      : 576                     w:7924     t: 600      l:1296   \n",
       " n      : 512                     y:   8                 n:  36   \n",
       " b      : 432                                            p:3968   \n",
       " o      : 192                                                     \n",
       " (Other): 156                                                     \n",
       " spore.print.color population habitat \n",
       " w      :2388      a: 384     d:3148  \n",
       " n      :1968      c: 340     g:2148  \n",
       " k      :1872      n: 400     l: 832  \n",
       " h      :1632      s:1248     m: 292  \n",
       " r      :  72      v:4040     p:1144  \n",
       " b      :  48      y:1712     u: 368  \n",
       " (Other): 144                 w: 192  "
      ]
     },
     "metadata": {},
     "output_type": "display_data"
    }
   ],
   "source": [
    "summary(mushroom)"
   ]
  },
  {
   "cell_type": "markdown",
   "metadata": {},
   "source": [
    "## **Check for empty records**"
   ]
  },
  {
   "cell_type": "code",
   "execution_count": 24,
   "metadata": {},
   "outputs": [
    {
     "data": {
      "text/html": [
       "0"
      ],
      "text/latex": [
       "0"
      ],
      "text/markdown": [
       "0"
      ],
      "text/plain": [
       "[1] 0"
      ]
     },
     "metadata": {},
     "output_type": "display_data"
    }
   ],
   "source": [
    "sum(is.na(mushroom))"
   ]
  },
  {
   "cell_type": "markdown",
   "metadata": {},
   "source": [
    "## **Split dataset into training and test set**"
   ]
  },
  {
   "cell_type": "code",
   "execution_count": 25,
   "metadata": {},
   "outputs": [],
   "source": [
    "set.seed(42)\n",
    "i <- sample(nrow(mushroom), size= nrow(mushroom)*0.75,replace = FALSE)\n",
    "train <- mushroom[i,]\n",
    "test <- mushroom[-i,]"
   ]
  },
  {
   "cell_type": "markdown",
   "metadata": {},
   "source": [
    "## **creating decision tree model**"
   ]
  },
  {
   "cell_type": "code",
   "execution_count": 26,
   "metadata": {},
   "outputs": [
    {
     "name": "stdout",
     "output_type": "stream",
     "text": [
      "Call:\n",
      "rpart(formula = class ~ ., data = train)\n",
      "  n= 6093 \n",
      "\n",
      "          CP nsplit  rel error     xerror        xstd\n",
      "1 0.96985095      0 1.00000000 1.00000000 0.013214788\n",
      "2 0.01626016      1 0.03014905 0.03014905 0.003172367\n",
      "3 0.01000000      2 0.01388889 0.01388889 0.002161770\n",
      "\n",
      "Variable importance\n",
      "                    odor        spore.print.color               gill.color \n",
      "                      26                       19                       16 \n",
      "stalk.surface.above.ring stalk.surface.below.ring                ring.type \n",
      "                      13                       13                       13 \n",
      "\n",
      "Node number 1: 6093 observations,    complexity param=0.9698509\n",
      "  predicted class=e  expected loss=0.4844904  P(node) =1\n",
      "    class counts:  3141  2952\n",
      "   probabilities: 0.516 0.484 \n",
      "  left son=2 (3230 obs) right son=3 (2863 obs)\n",
      "  Primary splits:\n",
      "      odor                     splits as  LRRLRLRRR,    improve=2870.4730, (0 missing)\n",
      "      spore.print.color        splits as  LRLLLRLRL,    improve=1607.0080, (0 missing)\n",
      "      gill.color               splits as  RLRRLLLLRLLL, improve=1141.7850, (0 missing)\n",
      "      stalk.surface.above.ring splits as  LRLL,         improve=1042.2530, (0 missing)\n",
      "      stalk.surface.below.ring splits as  LRLL,         improve= 984.6038, (0 missing)\n",
      "  Surrogate splits:\n",
      "      spore.print.color        splits as  LRLLLLLRL,    agree=0.856, adj=0.694, (0 split)\n",
      "      gill.color               splits as  RLRRLLLLLLLL, agree=0.811, adj=0.597, (0 split)\n",
      "      stalk.surface.above.ring splits as  LRLL,         agree=0.778, adj=0.527, (0 split)\n",
      "      stalk.surface.below.ring splits as  LRLL,         agree=0.777, adj=0.526, (0 split)\n",
      "      ring.type                splits as  RLRRL,        agree=0.773, adj=0.517, (0 split)\n",
      "\n",
      "Node number 2: 3230 observations,    complexity param=0.01626016\n",
      "  predicted class=e  expected loss=0.02755418  P(node) =0.5301165\n",
      "    class counts:  3141    89\n",
      "   probabilities: 0.972 0.028 \n",
      "  left son=4 (3182 obs) right son=5 (48 obs)\n",
      "  Primary splits:\n",
      "      spore.print.color        splits as  LLLLLRLLL,    improve=92.15192, (0 missing)\n",
      "      gill.color               splits as  -LLLLLLLRLLL, improve=36.14736, (0 missing)\n",
      "      stalk.color.below.ring   splits as  --LLLLLLR,    improve=34.23421, (0 missing)\n",
      "      cap.color                splits as  RLLLLRLLLL,   improve=13.54370, (0 missing)\n",
      "      stalk.surface.above.ring splits as  LRLR,         improve=11.65172, (0 missing)\n",
      "  Surrogate splits:\n",
      "      gill.color splits as  -LLLLLLLRLLL, agree=0.991, adj=0.396, (0 split)\n",
      "\n",
      "Node number 3: 2863 observations\n",
      "  predicted class=p  expected loss=0  P(node) =0.4698835\n",
      "    class counts:     0  2863\n",
      "   probabilities: 0.000 1.000 \n",
      "\n",
      "Node number 4: 3182 observations\n",
      "  predicted class=e  expected loss=0.01288498  P(node) =0.5222386\n",
      "    class counts:  3141    41\n",
      "   probabilities: 0.987 0.013 \n",
      "\n",
      "Node number 5: 48 observations\n",
      "  predicted class=p  expected loss=0  P(node) =0.007877893\n",
      "    class counts:     0    48\n",
      "   probabilities: 0.000 1.000 \n",
      "\n"
     ]
    }
   ],
   "source": [
    "library(rpart)\n",
    "model1 <- rpart(class ~. , data=train)\n",
    "summary(model1)"
   ]
  },
  {
   "cell_type": "markdown",
   "metadata": {},
   "source": [
    "## **creating confusion matrix**"
   ]
  },
  {
   "cell_type": "code",
   "execution_count": 27,
   "metadata": {
    "scrolled": true
   },
   "outputs": [
    {
     "data": {
      "text/plain": [
       "Confusion Matrix and Statistics\n",
       "\n",
       "          Reference\n",
       "Prediction    e    p\n",
       "         e 1067    7\n",
       "         p    0  957\n",
       "                                          \n",
       "               Accuracy : 0.9966          \n",
       "                 95% CI : (0.9929, 0.9986)\n",
       "    No Information Rate : 0.5254          \n",
       "    P-Value [Acc > NIR] : < 2e-16         \n",
       "                                          \n",
       "                  Kappa : 0.9931          \n",
       "                                          \n",
       " Mcnemar's Test P-Value : 0.02334         \n",
       "                                          \n",
       "            Sensitivity : 1.0000          \n",
       "            Specificity : 0.9927          \n",
       "         Pos Pred Value : 0.9935          \n",
       "         Neg Pred Value : 1.0000          \n",
       "             Prevalence : 0.5254          \n",
       "         Detection Rate : 0.5254          \n",
       "   Detection Prevalence : 0.5288          \n",
       "      Balanced Accuracy : 0.9964          \n",
       "                                          \n",
       "       'Positive' Class : e               \n",
       "                                          "
      ]
     },
     "metadata": {},
     "output_type": "display_data"
    }
   ],
   "source": [
    "library(caret)\n",
    "p <- predict(model1,newdata = test, type = \"class\")\n",
    "v <- test['class']\n",
    "v <- factor(v[,1])\n",
    "c <- confusionMatrix(p,v)\n",
    "c"
   ]
  },
  {
   "cell_type": "markdown",
   "metadata": {},
   "source": [
    "## **Creating plot of the confusion matrix**"
   ]
  },
  {
   "cell_type": "code",
   "execution_count": 28,
   "metadata": {},
   "outputs": [
    {
     "data": {
      "image/png": "[encoded data removed]",
      "text/plain": [
       "plot without title"
      ]
     },
     "metadata": {
      "image/png": {
       "height": 420,
       "width": 420
      },
      "text/plain": {
       "height": 420,
       "width": 420
      }
     },
     "output_type": "display_data"
    }
   ],
   "source": [
    "c <- data.frame(c$table)\n",
    "\n",
    "library(ggplot2)\n",
    "ggplot(data =  c, mapping = aes(x = Prediction, y = Reference)) +\n",
    "  geom_tile(aes(fill = c$Freq), colour = \"white\") +\n",
    "  geom_text(aes(label = sprintf(\"%1.0f\", c$Freq)), vjust = 1,col=\"red\") +\n",
    "  theme(legend.position = \"none\")"
   ]
  }
 ],
 "metadata": {
  "kernelspec": {
   "display_name": "R",
   "language": "R",
   "name": "ir"
  },
  "language_info": {
   "codemirror_mode": "r",
   "file_extension": ".r",
   "mimetype": "text/x-r-source",
   "name": "R",
   "pygments_lexer": "r",
   "version": "3.6.1"
  }
 },
 "nbformat": 4,
 "nbformat_minor": 4
}
